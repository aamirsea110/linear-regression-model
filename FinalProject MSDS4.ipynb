{
  "nbformat": 4,
  "nbformat_minor": 0,
  "metadata": {
    "colab": {
      "provenance": []
    },
    "kernelspec": {
      "name": "python3",
      "display_name": "Python 3"
    },
    "language_info": {
      "name": "python"
    }
  },
  "cells": [
    {
      "cell_type": "code",
      "execution_count": 45,
      "metadata": {
        "id": "cgbDMGQDUTbf"
      },
      "outputs": [],
      "source": [
        "import pandas as pd\n",
        "import matplotlib.pyplot as plt\n",
        "import numpy as np\n",
        "import seaborn as sns\n",
        "from sklearn.pipeline import Pipeline\n",
        "from sklearn.preprocessing import StandardScaler,PolynomialFeatures\n",
        "from sklearn.linear_model import LinearRegression\n",
        "from sklearn.model_selection import train_test_split\n",
        "from sklearn.metrics import r2_score\n",
        "%matplotlib inline"
      ]
    },
    {
      "cell_type": "code",
      "source": [
        "dataForTrain = pd.read_csv('train_dataset.csv')"
      ],
      "metadata": {
        "id": "XeoUia1TUfBg"
      },
      "execution_count": 46,
      "outputs": []
    },
    {
      "cell_type": "code",
      "source": [
        "dataForTrain.head(3)"
      ],
      "metadata": {
        "colab": {
          "base_uri": "https://localhost:8080/",
          "height": 389
        },
        "id": "5AeuYfWgmCgq",
        "outputId": "b8a545b6-2584-4110-98c2-5cea6f4a75fa"
      },
      "execution_count": 47,
      "outputs": [
        {
          "output_type": "execute_result",
          "data": {
            "text/plain": [
              "      id   graphic card type                                   communications  \\\n",
              "0   7233  dedicated graphics            ['bluetooth', 'lan 10/100/1000 mbps']   \n",
              "1   5845  dedicated graphics        ['wi-fi', 'bluetooth', 'lan 10/100 mbps']   \n",
              "2  10303                 NaN  ['bluetooth', 'nfc (near field communication)']   \n",
              "\n",
              "  resolution (px) CPU cores RAM size     operating system drive type  \\\n",
              "0     1920 x 1080         4    32 gb        ['no system']  ssd + hdd   \n",
              "1      1366 x 768         4     8 gb  ['windows 10 home']        ssd   \n",
              "2     1920 x 1080         2     8 gb  ['windows 10 home']        hdd   \n",
              "\n",
              "                                       input devices  \\\n",
              "0  ['keyboard', 'touchpad', 'illuminated keyboard...   \n",
              "1       ['keyboard', 'touchpad', 'numeric keyboard']   \n",
              "2                                                NaN   \n",
              "\n",
              "                                          multimedia RAM type  \\\n",
              "0  ['SD card reader', 'camera', 'speakers', 'micr...     ddr4   \n",
              "1  ['SD card reader', 'camera', 'speakers', 'micr...     ddr3   \n",
              "2                                 ['SD card reader']     ddr4   \n",
              "\n",
              "   CPU clock speed (GHz)      CPU model state  drive memory size (GB)  \\\n",
              "0                    2.6  intel core i7   new                  1250.0   \n",
              "1                    2.4  intel core i7   new                   256.0   \n",
              "2                    1.6  intel core i7   new                  1000.0   \n",
              "\n",
              "            warranty  screen size  buynow_price  \n",
              "0  producer warranty  17\" - 17.9\"        4999.0  \n",
              "1    seller warranty  15\" - 15.9\"        2649.0  \n",
              "2  producer warranty  15\" - 15.9\"        3399.0  "
            ],
            "text/html": [
              "\n",
              "  <div id=\"df-8a49b50d-0435-4657-a5f3-aaf6a195fe34\" class=\"colab-df-container\">\n",
              "    <div>\n",
              "<style scoped>\n",
              "    .dataframe tbody tr th:only-of-type {\n",
              "        vertical-align: middle;\n",
              "    }\n",
              "\n",
              "    .dataframe tbody tr th {\n",
              "        vertical-align: top;\n",
              "    }\n",
              "\n",
              "    .dataframe thead th {\n",
              "        text-align: right;\n",
              "    }\n",
              "</style>\n",
              "<table border=\"1\" class=\"dataframe\">\n",
              "  <thead>\n",
              "    <tr style=\"text-align: right;\">\n",
              "      <th></th>\n",
              "      <th>id</th>\n",
              "      <th>graphic card type</th>\n",
              "      <th>communications</th>\n",
              "      <th>resolution (px)</th>\n",
              "      <th>CPU cores</th>\n",
              "      <th>RAM size</th>\n",
              "      <th>operating system</th>\n",
              "      <th>drive type</th>\n",
              "      <th>input devices</th>\n",
              "      <th>multimedia</th>\n",
              "      <th>RAM type</th>\n",
              "      <th>CPU clock speed (GHz)</th>\n",
              "      <th>CPU model</th>\n",
              "      <th>state</th>\n",
              "      <th>drive memory size (GB)</th>\n",
              "      <th>warranty</th>\n",
              "      <th>screen size</th>\n",
              "      <th>buynow_price</th>\n",
              "    </tr>\n",
              "  </thead>\n",
              "  <tbody>\n",
              "    <tr>\n",
              "      <th>0</th>\n",
              "      <td>7233</td>\n",
              "      <td>dedicated graphics</td>\n",
              "      <td>['bluetooth', 'lan 10/100/1000 mbps']</td>\n",
              "      <td>1920 x 1080</td>\n",
              "      <td>4</td>\n",
              "      <td>32 gb</td>\n",
              "      <td>['no system']</td>\n",
              "      <td>ssd + hdd</td>\n",
              "      <td>['keyboard', 'touchpad', 'illuminated keyboard...</td>\n",
              "      <td>['SD card reader', 'camera', 'speakers', 'micr...</td>\n",
              "      <td>ddr4</td>\n",
              "      <td>2.6</td>\n",
              "      <td>intel core i7</td>\n",
              "      <td>new</td>\n",
              "      <td>1250.0</td>\n",
              "      <td>producer warranty</td>\n",
              "      <td>17\" - 17.9\"</td>\n",
              "      <td>4999.0</td>\n",
              "    </tr>\n",
              "    <tr>\n",
              "      <th>1</th>\n",
              "      <td>5845</td>\n",
              "      <td>dedicated graphics</td>\n",
              "      <td>['wi-fi', 'bluetooth', 'lan 10/100 mbps']</td>\n",
              "      <td>1366 x 768</td>\n",
              "      <td>4</td>\n",
              "      <td>8 gb</td>\n",
              "      <td>['windows 10 home']</td>\n",
              "      <td>ssd</td>\n",
              "      <td>['keyboard', 'touchpad', 'numeric keyboard']</td>\n",
              "      <td>['SD card reader', 'camera', 'speakers', 'micr...</td>\n",
              "      <td>ddr3</td>\n",
              "      <td>2.4</td>\n",
              "      <td>intel core i7</td>\n",
              "      <td>new</td>\n",
              "      <td>256.0</td>\n",
              "      <td>seller warranty</td>\n",
              "      <td>15\" - 15.9\"</td>\n",
              "      <td>2649.0</td>\n",
              "    </tr>\n",
              "    <tr>\n",
              "      <th>2</th>\n",
              "      <td>10303</td>\n",
              "      <td>NaN</td>\n",
              "      <td>['bluetooth', 'nfc (near field communication)']</td>\n",
              "      <td>1920 x 1080</td>\n",
              "      <td>2</td>\n",
              "      <td>8 gb</td>\n",
              "      <td>['windows 10 home']</td>\n",
              "      <td>hdd</td>\n",
              "      <td>NaN</td>\n",
              "      <td>['SD card reader']</td>\n",
              "      <td>ddr4</td>\n",
              "      <td>1.6</td>\n",
              "      <td>intel core i7</td>\n",
              "      <td>new</td>\n",
              "      <td>1000.0</td>\n",
              "      <td>producer warranty</td>\n",
              "      <td>15\" - 15.9\"</td>\n",
              "      <td>3399.0</td>\n",
              "    </tr>\n",
              "  </tbody>\n",
              "</table>\n",
              "</div>\n",
              "    <div class=\"colab-df-buttons\">\n",
              "\n",
              "  <div class=\"colab-df-container\">\n",
              "    <button class=\"colab-df-convert\" onclick=\"convertToInteractive('df-8a49b50d-0435-4657-a5f3-aaf6a195fe34')\"\n",
              "            title=\"Convert this dataframe to an interactive table.\"\n",
              "            style=\"display:none;\">\n",
              "\n",
              "  <svg xmlns=\"http://www.w3.org/2000/svg\" height=\"24px\" viewBox=\"0 -960 960 960\">\n",
              "    <path d=\"M120-120v-720h720v720H120Zm60-500h600v-160H180v160Zm220 220h160v-160H400v160Zm0 220h160v-160H400v160ZM180-400h160v-160H180v160Zm440 0h160v-160H620v160ZM180-180h160v-160H180v160Zm440 0h160v-160H620v160Z\"/>\n",
              "  </svg>\n",
              "    </button>\n",
              "\n",
              "  <style>\n",
              "    .colab-df-container {\n",
              "      display:flex;\n",
              "      gap: 12px;\n",
              "    }\n",
              "\n",
              "    .colab-df-convert {\n",
              "      background-color: #E8F0FE;\n",
              "      border: none;\n",
              "      border-radius: 50%;\n",
              "      cursor: pointer;\n",
              "      display: none;\n",
              "      fill: #1967D2;\n",
              "      height: 32px;\n",
              "      padding: 0 0 0 0;\n",
              "      width: 32px;\n",
              "    }\n",
              "\n",
              "    .colab-df-convert:hover {\n",
              "      background-color: #E2EBFA;\n",
              "      box-shadow: 0px 1px 2px rgba(60, 64, 67, 0.3), 0px 1px 3px 1px rgba(60, 64, 67, 0.15);\n",
              "      fill: #174EA6;\n",
              "    }\n",
              "\n",
              "    .colab-df-buttons div {\n",
              "      margin-bottom: 4px;\n",
              "    }\n",
              "\n",
              "    [theme=dark] .colab-df-convert {\n",
              "      background-color: #3B4455;\n",
              "      fill: #D2E3FC;\n",
              "    }\n",
              "\n",
              "    [theme=dark] .colab-df-convert:hover {\n",
              "      background-color: #434B5C;\n",
              "      box-shadow: 0px 1px 3px 1px rgba(0, 0, 0, 0.15);\n",
              "      filter: drop-shadow(0px 1px 2px rgba(0, 0, 0, 0.3));\n",
              "      fill: #FFFFFF;\n",
              "    }\n",
              "  </style>\n",
              "\n",
              "    <script>\n",
              "      const buttonEl =\n",
              "        document.querySelector('#df-8a49b50d-0435-4657-a5f3-aaf6a195fe34 button.colab-df-convert');\n",
              "      buttonEl.style.display =\n",
              "        google.colab.kernel.accessAllowed ? 'block' : 'none';\n",
              "\n",
              "      async function convertToInteractive(key) {\n",
              "        const element = document.querySelector('#df-8a49b50d-0435-4657-a5f3-aaf6a195fe34');\n",
              "        const dataTable =\n",
              "          await google.colab.kernel.invokeFunction('convertToInteractive',\n",
              "                                                    [key], {});\n",
              "        if (!dataTable) return;\n",
              "\n",
              "        const docLinkHtml = 'Like what you see? Visit the ' +\n",
              "          '<a target=\"_blank\" href=https://colab.research.google.com/notebooks/data_table.ipynb>data table notebook</a>'\n",
              "          + ' to learn more about interactive tables.';\n",
              "        element.innerHTML = '';\n",
              "        dataTable['output_type'] = 'display_data';\n",
              "        await google.colab.output.renderOutput(dataTable, element);\n",
              "        const docLink = document.createElement('div');\n",
              "        docLink.innerHTML = docLinkHtml;\n",
              "        element.appendChild(docLink);\n",
              "      }\n",
              "    </script>\n",
              "  </div>\n",
              "\n",
              "\n",
              "<div id=\"df-967c284e-f0b6-446b-8efd-7aadbc4f7c2f\">\n",
              "  <button class=\"colab-df-quickchart\" onclick=\"quickchart('df-967c284e-f0b6-446b-8efd-7aadbc4f7c2f')\"\n",
              "            title=\"Suggest charts\"\n",
              "            style=\"display:none;\">\n",
              "\n",
              "<svg xmlns=\"http://www.w3.org/2000/svg\" height=\"24px\"viewBox=\"0 0 24 24\"\n",
              "     width=\"24px\">\n",
              "    <g>\n",
              "        <path d=\"M19 3H5c-1.1 0-2 .9-2 2v14c0 1.1.9 2 2 2h14c1.1 0 2-.9 2-2V5c0-1.1-.9-2-2-2zM9 17H7v-7h2v7zm4 0h-2V7h2v10zm4 0h-2v-4h2v4z\"/>\n",
              "    </g>\n",
              "</svg>\n",
              "  </button>\n",
              "\n",
              "<style>\n",
              "  .colab-df-quickchart {\n",
              "      --bg-color: #E8F0FE;\n",
              "      --fill-color: #1967D2;\n",
              "      --hover-bg-color: #E2EBFA;\n",
              "      --hover-fill-color: #174EA6;\n",
              "      --disabled-fill-color: #AAA;\n",
              "      --disabled-bg-color: #DDD;\n",
              "  }\n",
              "\n",
              "  [theme=dark] .colab-df-quickchart {\n",
              "      --bg-color: #3B4455;\n",
              "      --fill-color: #D2E3FC;\n",
              "      --hover-bg-color: #434B5C;\n",
              "      --hover-fill-color: #FFFFFF;\n",
              "      --disabled-bg-color: #3B4455;\n",
              "      --disabled-fill-color: #666;\n",
              "  }\n",
              "\n",
              "  .colab-df-quickchart {\n",
              "    background-color: var(--bg-color);\n",
              "    border: none;\n",
              "    border-radius: 50%;\n",
              "    cursor: pointer;\n",
              "    display: none;\n",
              "    fill: var(--fill-color);\n",
              "    height: 32px;\n",
              "    padding: 0;\n",
              "    width: 32px;\n",
              "  }\n",
              "\n",
              "  .colab-df-quickchart:hover {\n",
              "    background-color: var(--hover-bg-color);\n",
              "    box-shadow: 0 1px 2px rgba(60, 64, 67, 0.3), 0 1px 3px 1px rgba(60, 64, 67, 0.15);\n",
              "    fill: var(--button-hover-fill-color);\n",
              "  }\n",
              "\n",
              "  .colab-df-quickchart-complete:disabled,\n",
              "  .colab-df-quickchart-complete:disabled:hover {\n",
              "    background-color: var(--disabled-bg-color);\n",
              "    fill: var(--disabled-fill-color);\n",
              "    box-shadow: none;\n",
              "  }\n",
              "\n",
              "  .colab-df-spinner {\n",
              "    border: 2px solid var(--fill-color);\n",
              "    border-color: transparent;\n",
              "    border-bottom-color: var(--fill-color);\n",
              "    animation:\n",
              "      spin 1s steps(1) infinite;\n",
              "  }\n",
              "\n",
              "  @keyframes spin {\n",
              "    0% {\n",
              "      border-color: transparent;\n",
              "      border-bottom-color: var(--fill-color);\n",
              "      border-left-color: var(--fill-color);\n",
              "    }\n",
              "    20% {\n",
              "      border-color: transparent;\n",
              "      border-left-color: var(--fill-color);\n",
              "      border-top-color: var(--fill-color);\n",
              "    }\n",
              "    30% {\n",
              "      border-color: transparent;\n",
              "      border-left-color: var(--fill-color);\n",
              "      border-top-color: var(--fill-color);\n",
              "      border-right-color: var(--fill-color);\n",
              "    }\n",
              "    40% {\n",
              "      border-color: transparent;\n",
              "      border-right-color: var(--fill-color);\n",
              "      border-top-color: var(--fill-color);\n",
              "    }\n",
              "    60% {\n",
              "      border-color: transparent;\n",
              "      border-right-color: var(--fill-color);\n",
              "    }\n",
              "    80% {\n",
              "      border-color: transparent;\n",
              "      border-right-color: var(--fill-color);\n",
              "      border-bottom-color: var(--fill-color);\n",
              "    }\n",
              "    90% {\n",
              "      border-color: transparent;\n",
              "      border-bottom-color: var(--fill-color);\n",
              "    }\n",
              "  }\n",
              "</style>\n",
              "\n",
              "  <script>\n",
              "    async function quickchart(key) {\n",
              "      const quickchartButtonEl =\n",
              "        document.querySelector('#' + key + ' button');\n",
              "      quickchartButtonEl.disabled = true;  // To prevent multiple clicks.\n",
              "      quickchartButtonEl.classList.add('colab-df-spinner');\n",
              "      try {\n",
              "        const charts = await google.colab.kernel.invokeFunction(\n",
              "            'suggestCharts', [key], {});\n",
              "      } catch (error) {\n",
              "        console.error('Error during call to suggestCharts:', error);\n",
              "      }\n",
              "      quickchartButtonEl.classList.remove('colab-df-spinner');\n",
              "      quickchartButtonEl.classList.add('colab-df-quickchart-complete');\n",
              "    }\n",
              "    (() => {\n",
              "      let quickchartButtonEl =\n",
              "        document.querySelector('#df-967c284e-f0b6-446b-8efd-7aadbc4f7c2f button');\n",
              "      quickchartButtonEl.style.display =\n",
              "        google.colab.kernel.accessAllowed ? 'block' : 'none';\n",
              "    })();\n",
              "  </script>\n",
              "</div>\n",
              "\n",
              "    </div>\n",
              "  </div>\n"
            ]
          },
          "metadata": {},
          "execution_count": 47
        }
      ]
    },
    {
      "cell_type": "code",
      "source": [
        "dataForTrain.info()"
      ],
      "metadata": {
        "colab": {
          "base_uri": "https://localhost:8080/"
        },
        "id": "V6eG0fJ-mGeb",
        "outputId": "0965091f-1989-4d5f-e7ec-b3da0202db4d"
      },
      "execution_count": 48,
      "outputs": [
        {
          "output_type": "stream",
          "name": "stdout",
          "text": [
            "<class 'pandas.core.frame.DataFrame'>\n",
            "RangeIndex: 4711 entries, 0 to 4710\n",
            "Data columns (total 18 columns):\n",
            " #   Column                  Non-Null Count  Dtype  \n",
            "---  ------                  --------------  -----  \n",
            " 0   id                      4711 non-null   int64  \n",
            " 1   graphic card type       4417 non-null   object \n",
            " 2   communications          4261 non-null   object \n",
            " 3   resolution (px)         4361 non-null   object \n",
            " 4   CPU cores               4711 non-null   object \n",
            " 5   RAM size                4457 non-null   object \n",
            " 6   operating system        4335 non-null   object \n",
            " 7   drive type              4454 non-null   object \n",
            " 8   input devices           4321 non-null   object \n",
            " 9   multimedia              4310 non-null   object \n",
            " 10  RAM type                4212 non-null   object \n",
            " 11  CPU clock speed (GHz)   4181 non-null   float64\n",
            " 12  CPU model               4389 non-null   object \n",
            " 13  state                   4711 non-null   object \n",
            " 14  drive memory size (GB)  4439 non-null   float64\n",
            " 15  warranty                4711 non-null   object \n",
            " 16  screen size             4514 non-null   object \n",
            " 17  buynow_price            4711 non-null   float64\n",
            "dtypes: float64(3), int64(1), object(14)\n",
            "memory usage: 662.6+ KB\n"
          ]
        }
      ]
    },
    {
      "cell_type": "code",
      "source": [
        "dataForTrain.isna().sum()"
      ],
      "metadata": {
        "colab": {
          "base_uri": "https://localhost:8080/"
        },
        "id": "IyQGULsfd7OZ",
        "outputId": "abf1abe5-3a73-42ea-b428-92e2b34cf330"
      },
      "execution_count": 49,
      "outputs": [
        {
          "output_type": "execute_result",
          "data": {
            "text/plain": [
              "id                          0\n",
              "graphic card type         294\n",
              "communications            450\n",
              "resolution (px)           350\n",
              "CPU cores                   0\n",
              "RAM size                  254\n",
              "operating system          376\n",
              "drive type                257\n",
              "input devices             390\n",
              "multimedia                401\n",
              "RAM type                  499\n",
              "CPU clock speed (GHz)     530\n",
              "CPU model                 322\n",
              "state                       0\n",
              "drive memory size (GB)    272\n",
              "warranty                    0\n",
              "screen size               197\n",
              "buynow_price                0\n",
              "dtype: int64"
            ]
          },
          "metadata": {},
          "execution_count": 49
        }
      ]
    },
    {
      "cell_type": "code",
      "source": [
        "dataForTrain = dataForTrain.dropna()"
      ],
      "metadata": {
        "id": "2Ti3etuSLron"
      },
      "execution_count": 50,
      "outputs": []
    },
    {
      "cell_type": "code",
      "source": [
        "dataForTrain['CPU cores'] = dataForTrain['CPU cores'].astype(int)\n",
        "dataForTrain['CPU cores'] = dataForTrain['CPU cores'].astype(int)"
      ],
      "metadata": {
        "id": "xB6t9c5oTiyN"
      },
      "execution_count": 51,
      "outputs": []
    },
    {
      "cell_type": "code",
      "source": [
        "plt.hist(dataForTrain['CPU cores'], bins=10, color='black')\n",
        "plt.xlabel('CPU Cores')\n",
        "plt.ylabel('Frequency')\n",
        "plt.title('Histogram in CPU Cores')\n",
        "plt.savefig('CPU Cores.png')\n",
        "plt.show()"
      ],
      "metadata": {
        "colab": {
          "base_uri": "https://localhost:8080/",
          "height": 472
        },
        "id": "WMJAmwh7Uxy3",
        "outputId": "35949ee2-4508-4673-b05f-13c4a9a7a26f"
      },
      "execution_count": 52,
      "outputs": [
        {
          "output_type": "display_data",
          "data": {
            "text/plain": [
              "<Figure size 640x480 with 1 Axes>"
            ],
            "image/png": "[encoded data removed]"
          },
          "metadata": {}
        }
      ]
    },
    {
      "cell_type": "code",
      "source": [
        "print(dataForTrain.columns)\n"
      ],
      "metadata": {
        "id": "OCUFg8-vsbdr",
        "outputId": "d5af767b-1081-48e5-e350-d277ad1ffbc2",
        "colab": {
          "base_uri": "https://localhost:8080/"
        }
      },
      "execution_count": 53,
      "outputs": [
        {
          "output_type": "stream",
          "name": "stdout",
          "text": [
            "Index(['id', 'graphic card type', 'communications', 'resolution (px)',\n",
            "       'CPU cores', 'RAM size', 'operating system', 'drive type',\n",
            "       'input devices', 'multimedia', 'RAM type', 'CPU clock speed (GHz)',\n",
            "       'CPU model', 'state', 'drive memory size (GB)', 'warranty',\n",
            "       'screen size', 'buynow_price'],\n",
            "      dtype='object')\n"
          ]
        }
      ]
    },
    {
      "cell_type": "code",
      "source": [
        "pivot_table = dataForTrain.pivot_table(index='RAM size', columns='drive type', aggfunc='size', fill_value=0)\n",
        "\n",
        "print(pivot_table)"
      ],
      "metadata": {
        "id": "Hu5RHGXOob1P",
        "outputId": "eebb69a4-cb62-429e-992a-44669db49b62",
        "colab": {
          "base_uri": "https://localhost:8080/"
        }
      },
      "execution_count": 54,
      "outputs": [
        {
          "output_type": "stream",
          "name": "stdout",
          "text": [
            "drive type  emmc  hdd  hybrid  ssd  ssd + hdd\n",
            "RAM size                                     \n",
            "12 gb          0  114       3  263         85\n",
            "16 gb          0  104       2  274        187\n",
            "2 gb          25    2       0   17          0\n",
            "20 gb          0   14       0   20          7\n",
            "32 gb          0   25       0   86         90\n",
            "4 gb          11  341      12  357         35\n",
            "6 gb           0   40       0   35          5\n",
            "8 gb           0  424      23  850        243\n"
          ]
        }
      ]
    },
    {
      "cell_type": "code",
      "source": [
        "print(dataForTrain.columns)"
      ],
      "metadata": {
        "id": "WJeipypYIKTJ",
        "outputId": "93fe7810-c408-4cce-cf70-eebc1778d11e",
        "colab": {
          "base_uri": "https://localhost:8080/"
        }
      },
      "execution_count": 55,
      "outputs": [
        {
          "output_type": "stream",
          "name": "stdout",
          "text": [
            "Index(['id', 'graphic card type', 'communications', 'resolution (px)',\n",
            "       'CPU cores', 'RAM size', 'operating system', 'drive type',\n",
            "       'input devices', 'multimedia', 'RAM type', 'CPU clock speed (GHz)',\n",
            "       'CPU model', 'state', 'drive memory size (GB)', 'warranty',\n",
            "       'screen size', 'buynow_price'],\n",
            "      dtype='object')\n"
          ]
        }
      ]
    },
    {
      "cell_type": "code",
      "source": [
        "dataForTest = pd.read_csv(\"test_dataset.csv\")"
      ],
      "metadata": {
        "id": "uUbVpHdUcE-F"
      },
      "execution_count": 56,
      "outputs": []
    },
    {
      "cell_type": "code",
      "source": [
        "dataForTest = dataForTest.dropna()"
      ],
      "metadata": {
        "id": "9mM2586FIf5q"
      },
      "execution_count": 57,
      "outputs": []
    },
    {
      "cell_type": "code",
      "source": [
        "dataForTest.head(3)"
      ],
      "metadata": {
        "colab": {
          "base_uri": "https://localhost:8080/",
          "height": 389
        },
        "id": "zaf190f-U6RF",
        "outputId": "1dc160d7-7f29-4e16-ba79-e0bf0f830c23"
      },
      "execution_count": 58,
      "outputs": [
        {
          "output_type": "execute_result",
          "data": {
            "text/plain": [
              "     id    graphic card type  \\\n",
              "0  5124   dedicated graphics   \n",
              "1  9595  integrated graphics   \n",
              "2  4926   dedicated graphics   \n",
              "\n",
              "                                      communications resolution (px)  \\\n",
              "0                   ['bluetooth', 'lan 10/100 mbps']     1920 x 1080   \n",
              "1  ['bluetooth', 'lan 10/100/1000 mbps', 'lan 10/...     1920 x 1080   \n",
              "2     ['wi-fi', 'bluetooth', 'lan 10/100/1000 mbps']     1920 x 1080   \n",
              "\n",
              "  CPU cores RAM size     operating system drive type  \\\n",
              "0         2     8 gb  ['windows 10 home']        hdd   \n",
              "1         2     4 gb  ['windows 10 home']        ssd   \n",
              "2         4    16 gb  ['windows 10 home']  ssd + hdd   \n",
              "\n",
              "                                       input devices  \\\n",
              "0                           ['keyboard', 'touchpad']   \n",
              "1                           ['keyboard', 'touchpad']   \n",
              "2  ['keyboard', 'touchpad', 'illuminated keyboard...   \n",
              "\n",
              "                                          multimedia RAM type  \\\n",
              "0         ['SD card reader', 'camera', 'microphone']     ddr4   \n",
              "1         ['SD card reader', 'camera', 'microphone']     ddr4   \n",
              "2  ['SD card reader', 'camera', 'speakers', 'micr...     ddr4   \n",
              "\n",
              "   CPU clock speed (GHz)      CPU model state  drive memory size (GB)  \\\n",
              "0                    2.0  intel core i3   new                  1000.0   \n",
              "1                    2.0  intel core i3   new                   240.0   \n",
              "2                    2.8  intel core i7   new                  1500.0   \n",
              "\n",
              "            warranty  screen size  buynow_price  \n",
              "0  producer warranty  15\" - 15.9\"        2369.0  \n",
              "1  producer warranty  15\" - 15.9\"        2299.0  \n",
              "2  producer warranty  15\" - 15.9\"        5999.0  "
            ],
            "text/html": [
              "\n",
              "  <div id=\"df-cec14385-eaf9-4246-9634-36617f2ba64c\" class=\"colab-df-container\">\n",
              "    <div>\n",
              "<style scoped>\n",
              "    .dataframe tbody tr th:only-of-type {\n",
              "        vertical-align: middle;\n",
              "    }\n",
              "\n",
              "    .dataframe tbody tr th {\n",
              "        vertical-align: top;\n",
              "    }\n",
              "\n",
              "    .dataframe thead th {\n",
              "        text-align: right;\n",
              "    }\n",
              "</style>\n",
              "<table border=\"1\" class=\"dataframe\">\n",
              "  <thead>\n",
              "    <tr style=\"text-align: right;\">\n",
              "      <th></th>\n",
              "      <th>id</th>\n",
              "      <th>graphic card type</th>\n",
              "      <th>communications</th>\n",
              "      <th>resolution (px)</th>\n",
              "      <th>CPU cores</th>\n",
              "      <th>RAM size</th>\n",
              "      <th>operating system</th>\n",
              "      <th>drive type</th>\n",
              "      <th>input devices</th>\n",
              "      <th>multimedia</th>\n",
              "      <th>RAM type</th>\n",
              "      <th>CPU clock speed (GHz)</th>\n",
              "      <th>CPU model</th>\n",
              "      <th>state</th>\n",
              "      <th>drive memory size (GB)</th>\n",
              "      <th>warranty</th>\n",
              "      <th>screen size</th>\n",
              "      <th>buynow_price</th>\n",
              "    </tr>\n",
              "  </thead>\n",
              "  <tbody>\n",
              "    <tr>\n",
              "      <th>0</th>\n",
              "      <td>5124</td>\n",
              "      <td>dedicated graphics</td>\n",
              "      <td>['bluetooth', 'lan 10/100 mbps']</td>\n",
              "      <td>1920 x 1080</td>\n",
              "      <td>2</td>\n",
              "      <td>8 gb</td>\n",
              "      <td>['windows 10 home']</td>\n",
              "      <td>hdd</td>\n",
              "      <td>['keyboard', 'touchpad']</td>\n",
              "      <td>['SD card reader', 'camera', 'microphone']</td>\n",
              "      <td>ddr4</td>\n",
              "      <td>2.0</td>\n",
              "      <td>intel core i3</td>\n",
              "      <td>new</td>\n",
              "      <td>1000.0</td>\n",
              "      <td>producer warranty</td>\n",
              "      <td>15\" - 15.9\"</td>\n",
              "      <td>2369.0</td>\n",
              "    </tr>\n",
              "    <tr>\n",
              "      <th>1</th>\n",
              "      <td>9595</td>\n",
              "      <td>integrated graphics</td>\n",
              "      <td>['bluetooth', 'lan 10/100/1000 mbps', 'lan 10/...</td>\n",
              "      <td>1920 x 1080</td>\n",
              "      <td>2</td>\n",
              "      <td>4 gb</td>\n",
              "      <td>['windows 10 home']</td>\n",
              "      <td>ssd</td>\n",
              "      <td>['keyboard', 'touchpad']</td>\n",
              "      <td>['SD card reader', 'camera', 'microphone']</td>\n",
              "      <td>ddr4</td>\n",
              "      <td>2.0</td>\n",
              "      <td>intel core i3</td>\n",
              "      <td>new</td>\n",
              "      <td>240.0</td>\n",
              "      <td>producer warranty</td>\n",
              "      <td>15\" - 15.9\"</td>\n",
              "      <td>2299.0</td>\n",
              "    </tr>\n",
              "    <tr>\n",
              "      <th>2</th>\n",
              "      <td>4926</td>\n",
              "      <td>dedicated graphics</td>\n",
              "      <td>['wi-fi', 'bluetooth', 'lan 10/100/1000 mbps']</td>\n",
              "      <td>1920 x 1080</td>\n",
              "      <td>4</td>\n",
              "      <td>16 gb</td>\n",
              "      <td>['windows 10 home']</td>\n",
              "      <td>ssd + hdd</td>\n",
              "      <td>['keyboard', 'touchpad', 'illuminated keyboard...</td>\n",
              "      <td>['SD card reader', 'camera', 'speakers', 'micr...</td>\n",
              "      <td>ddr4</td>\n",
              "      <td>2.8</td>\n",
              "      <td>intel core i7</td>\n",
              "      <td>new</td>\n",
              "      <td>1500.0</td>\n",
              "      <td>producer warranty</td>\n",
              "      <td>15\" - 15.9\"</td>\n",
              "      <td>5999.0</td>\n",
              "    </tr>\n",
              "  </tbody>\n",
              "</table>\n",
              "</div>\n",
              "    <div class=\"colab-df-buttons\">\n",
              "\n",
              "  <div class=\"colab-df-container\">\n",
              "    <button class=\"colab-df-convert\" onclick=\"convertToInteractive('df-cec14385-eaf9-4246-9634-36617f2ba64c')\"\n",
              "            title=\"Convert this dataframe to an interactive table.\"\n",
              "            style=\"display:none;\">\n",
              "\n",
              "  <svg xmlns=\"http://www.w3.org/2000/svg\" height=\"24px\" viewBox=\"0 -960 960 960\">\n",
              "    <path d=\"M120-120v-720h720v720H120Zm60-500h600v-160H180v160Zm220 220h160v-160H400v160Zm0 220h160v-160H400v160ZM180-400h160v-160H180v160Zm440 0h160v-160H620v160ZM180-180h160v-160H180v160Zm440 0h160v-160H620v160Z\"/>\n",
              "  </svg>\n",
              "    </button>\n",
              "\n",
              "  <style>\n",
              "    .colab-df-container {\n",
              "      display:flex;\n",
              "      gap: 12px;\n",
              "    }\n",
              "\n",
              "    .colab-df-convert {\n",
              "      background-color: #E8F0FE;\n",
              "      border: none;\n",
              "      border-radius: 50%;\n",
              "      cursor: pointer;\n",
              "      display: none;\n",
              "      fill: #1967D2;\n",
              "      height: 32px;\n",
              "      padding: 0 0 0 0;\n",
              "      width: 32px;\n",
              "    }\n",
              "\n",
              "    .colab-df-convert:hover {\n",
              "      background-color: #E2EBFA;\n",
              "      box-shadow: 0px 1px 2px rgba(60, 64, 67, 0.3), 0px 1px 3px 1px rgba(60, 64, 67, 0.15);\n",
              "      fill: #174EA6;\n",
              "    }\n",
              "\n",
              "    .colab-df-buttons div {\n",
              "      margin-bottom: 4px;\n",
              "    }\n",
              "\n",
              "    [theme=dark] .colab-df-convert {\n",
              "      background-color: #3B4455;\n",
              "      fill: #D2E3FC;\n",
              "    }\n",
              "\n",
              "    [theme=dark] .colab-df-convert:hover {\n",
              "      background-color: #434B5C;\n",
              "      box-shadow: 0px 1px 3px 1px rgba(0, 0, 0, 0.15);\n",
              "      filter: drop-shadow(0px 1px 2px rgba(0, 0, 0, 0.3));\n",
              "      fill: #FFFFFF;\n",
              "    }\n",
              "  </style>\n",
              "\n",
              "    <script>\n",
              "      const buttonEl =\n",
              "        document.querySelector('#df-cec14385-eaf9-4246-9634-36617f2ba64c button.colab-df-convert');\n",
              "      buttonEl.style.display =\n",
              "        google.colab.kernel.accessAllowed ? 'block' : 'none';\n",
              "\n",
              "      async function convertToInteractive(key) {\n",
              "        const element = document.querySelector('#df-cec14385-eaf9-4246-9634-36617f2ba64c');\n",
              "        const dataTable =\n",
              "          await google.colab.kernel.invokeFunction('convertToInteractive',\n",
              "                                                    [key], {});\n",
              "        if (!dataTable) return;\n",
              "\n",
              "        const docLinkHtml = 'Like what you see? Visit the ' +\n",
              "          '<a target=\"_blank\" href=https://colab.research.google.com/notebooks/data_table.ipynb>data table notebook</a>'\n",
              "          + ' to learn more about interactive tables.';\n",
              "        element.innerHTML = '';\n",
              "        dataTable['output_type'] = 'display_data';\n",
              "        await google.colab.output.renderOutput(dataTable, element);\n",
              "        const docLink = document.createElement('div');\n",
              "        docLink.innerHTML = docLinkHtml;\n",
              "        element.appendChild(docLink);\n",
              "      }\n",
              "    </script>\n",
              "  </div>\n",
              "\n",
              "\n",
              "<div id=\"df-d3a3fcc1-34da-4302-a851-14b453fedb81\">\n",
              "  <button class=\"colab-df-quickchart\" onclick=\"quickchart('df-d3a3fcc1-34da-4302-a851-14b453fedb81')\"\n",
              "            title=\"Suggest charts\"\n",
              "            style=\"display:none;\">\n",
              "\n",
              "<svg xmlns=\"http://www.w3.org/2000/svg\" height=\"24px\"viewBox=\"0 0 24 24\"\n",
              "     width=\"24px\">\n",
              "    <g>\n",
              "        <path d=\"M19 3H5c-1.1 0-2 .9-2 2v14c0 1.1.9 2 2 2h14c1.1 0 2-.9 2-2V5c0-1.1-.9-2-2-2zM9 17H7v-7h2v7zm4 0h-2V7h2v10zm4 0h-2v-4h2v4z\"/>\n",
              "    </g>\n",
              "</svg>\n",
              "  </button>\n",
              "\n",
              "<style>\n",
              "  .colab-df-quickchart {\n",
              "      --bg-color: #E8F0FE;\n",
              "      --fill-color: #1967D2;\n",
              "      --hover-bg-color: #E2EBFA;\n",
              "      --hover-fill-color: #174EA6;\n",
              "      --disabled-fill-color: #AAA;\n",
              "      --disabled-bg-color: #DDD;\n",
              "  }\n",
              "\n",
              "  [theme=dark] .colab-df-quickchart {\n",
              "      --bg-color: #3B4455;\n",
              "      --fill-color: #D2E3FC;\n",
              "      --hover-bg-color: #434B5C;\n",
              "      --hover-fill-color: #FFFFFF;\n",
              "      --disabled-bg-color: #3B4455;\n",
              "      --disabled-fill-color: #666;\n",
              "  }\n",
              "\n",
              "  .colab-df-quickchart {\n",
              "    background-color: var(--bg-color);\n",
              "    border: none;\n",
              "    border-radius: 50%;\n",
              "    cursor: pointer;\n",
              "    display: none;\n",
              "    fill: var(--fill-color);\n",
              "    height: 32px;\n",
              "    padding: 0;\n",
              "    width: 32px;\n",
              "  }\n",
              "\n",
              "  .colab-df-quickchart:hover {\n",
              "    background-color: var(--hover-bg-color);\n",
              "    box-shadow: 0 1px 2px rgba(60, 64, 67, 0.3), 0 1px 3px 1px rgba(60, 64, 67, 0.15);\n",
              "    fill: var(--button-hover-fill-color);\n",
              "  }\n",
              "\n",
              "  .colab-df-quickchart-complete:disabled,\n",
              "  .colab-df-quickchart-complete:disabled:hover {\n",
              "    background-color: var(--disabled-bg-color);\n",
              "    fill: var(--disabled-fill-color);\n",
              "    box-shadow: none;\n",
              "  }\n",
              "\n",
              "  .colab-df-spinner {\n",
              "    border: 2px solid var(--fill-color);\n",
              "    border-color: transparent;\n",
              "    border-bottom-color: var(--fill-color);\n",
              "    animation:\n",
              "      spin 1s steps(1) infinite;\n",
              "  }\n",
              "\n",
              "  @keyframes spin {\n",
              "    0% {\n",
              "      border-color: transparent;\n",
              "      border-bottom-color: var(--fill-color);\n",
              "      border-left-color: var(--fill-color);\n",
              "    }\n",
              "    20% {\n",
              "      border-color: transparent;\n",
              "      border-left-color: var(--fill-color);\n",
              "      border-top-color: var(--fill-color);\n",
              "    }\n",
              "    30% {\n",
              "      border-color: transparent;\n",
              "      border-left-color: var(--fill-color);\n",
              "      border-top-color: var(--fill-color);\n",
              "      border-right-color: var(--fill-color);\n",
              "    }\n",
              "    40% {\n",
              "      border-color: transparent;\n",
              "      border-right-color: var(--fill-color);\n",
              "      border-top-color: var(--fill-color);\n",
              "    }\n",
              "    60% {\n",
              "      border-color: transparent;\n",
              "      border-right-color: var(--fill-color);\n",
              "    }\n",
              "    80% {\n",
              "      border-color: transparent;\n",
              "      border-right-color: var(--fill-color);\n",
              "      border-bottom-color: var(--fill-color);\n",
              "    }\n",
              "    90% {\n",
              "      border-color: transparent;\n",
              "      border-bottom-color: var(--fill-color);\n",
              "    }\n",
              "  }\n",
              "</style>\n",
              "\n",
              "  <script>\n",
              "    async function quickchart(key) {\n",
              "      const quickchartButtonEl =\n",
              "        document.querySelector('#' + key + ' button');\n",
              "      quickchartButtonEl.disabled = true;  // To prevent multiple clicks.\n",
              "      quickchartButtonEl.classList.add('colab-df-spinner');\n",
              "      try {\n",
              "        const charts = await google.colab.kernel.invokeFunction(\n",
              "            'suggestCharts', [key], {});\n",
              "      } catch (error) {\n",
              "        console.error('Error during call to suggestCharts:', error);\n",
              "      }\n",
              "      quickchartButtonEl.classList.remove('colab-df-spinner');\n",
              "      quickchartButtonEl.classList.add('colab-df-quickchart-complete');\n",
              "    }\n",
              "    (() => {\n",
              "      let quickchartButtonEl =\n",
              "        document.querySelector('#df-d3a3fcc1-34da-4302-a851-14b453fedb81 button');\n",
              "      quickchartButtonEl.style.display =\n",
              "        google.colab.kernel.accessAllowed ? 'block' : 'none';\n",
              "    })();\n",
              "  </script>\n",
              "</div>\n",
              "\n",
              "    </div>\n",
              "  </div>\n"
            ]
          },
          "metadata": {},
          "execution_count": 58
        }
      ]
    },
    {
      "cell_type": "code",
      "source": [
        "import sklearn\n",
        "\n",
        "X_train = dataForTrain[['CPU cores']]\n",
        "y_train = dataForTrain['buynow_price']\n",
        "X_test = dataForTest[['CPU cores']]\n",
        "y_test = dataForTest['buynow_price']\n",
        "\n",
        "\n",
        "from sklearn.linear_model import LinearRegression\n",
        "model = LinearRegression()\n",
        "model.fit(X_train, y_train)\n",
        "\n",
        "y_pred = model.predict(X_test)\n",
        "\n",
        "# Calculate MSE and R2 for SLR\n",
        "mse_slr = sklearn.metrics.mean_squared_error(y_test, y_pred)\n",
        "r2_slr = sklearn.metrics.r2_score(y_test, y_pred)"
      ],
      "metadata": {
        "id": "Eo_LTWU1WAbG"
      },
      "execution_count": 61,
      "outputs": []
    },
    {
      "cell_type": "code",
      "source": [
        "model = LinearRegression()\n",
        "\n",
        "model.fit(dataForTrain[['CPU cores']], dataForTrain['buynow_price'])\n",
        "predictions = model.predict(dataForTest[['CPU cores']])\n",
        "# Calculate the MSE\n",
        "mse = np.mean((predictions - dataForTest['buynow_price']) ** 2)\n",
        "# Print the MSE\n",
        "print(\"Mean Square Error:\", mse)"
      ],
      "metadata": {
        "colab": {
          "base_uri": "https://localhost:8080/"
        },
        "id": "te8S7CdkbgIm",
        "outputId": "b05f7003-981e-42e4-f58c-976a561776d4"
      },
      "execution_count": 59,
      "outputs": [
        {
          "output_type": "stream",
          "name": "stdout",
          "text": [
            "MSE: 2128566.6313508726\n"
          ]
        }
      ]
    },
    {
      "cell_type": "code",
      "source": [
        "#\"R2 Score\"\n",
        "import sklearn.model_selection\n",
        "X_train, X_test, y_train, y_test = sklearn.model_selection.train_test_split(dataForTrain[['CPU cores']], dataForTrain['buynow_price'], test_size=0.25)# Train the linear regression model\n",
        "model = LinearRegression()\n",
        "model.fit(X_train, y_train)\n",
        "\n",
        "y_pred = model.predict(X_test)\n",
        "\n",
        "r2 = r2_score(y_test, y_pred)\n",
        "print('R2 score:', r2)"
      ],
      "metadata": {
        "id": "-lna2PL6U6AS",
        "outputId": "f57c736d-c31c-4f4f-9e89-e6b4e84d2edc",
        "colab": {
          "base_uri": "https://localhost:8080/"
        }
      },
      "execution_count": 62,
      "outputs": [
        {
          "output_type": "stream",
          "name": "stdout",
          "text": [
            "R2 score: 0.2652723283182624\n"
          ]
        }
      ]
    },
    {
      "cell_type": "code",
      "source": [
        "#\"Residual Plot\"\n",
        "residuals = y_test - y_pred\n",
        "plt.scatter(y_pred, residuals, alpha=0.5)\n",
        "plt.title('Residual Plot')\n",
        "plt.xlabel('Fitted values')\n",
        "plt.ylabel('Residuals')\n",
        "plt.axhline(y=0, color='r', linestyle='-')\n",
        "plt.show()\n"
      ],
      "metadata": {
        "id": "OxZknyOiWXye",
        "outputId": "8ae4b71b-25b2-4009-bb07-bfb15691f4d2",
        "colab": {
          "base_uri": "https://localhost:8080/",
          "height": 472
        }
      },
      "execution_count": 63,
      "outputs": [
        {
          "output_type": "display_data",
          "data": {
            "text/plain": [
              "<Figure size 640x480 with 1 Axes>"
            ],
            "image/png": "[encoded data removed]"
          },
          "metadata": {}
        }
      ]
    },
    {
      "cell_type": "code",
      "source": [
        "# independent and dependent variables\n",
        "X = dataForTrain[['CPU cores', 'drive memory size (GB)']]\n",
        "y = dataForTrain['buynow_price']\n",
        "\n",
        "X_train, X_test, y_train, y_test = train_test_split(X, y, test_size=0.25)\n",
        "\n",
        "model = LinearRegression()\n",
        "\n",
        "# To fit the model on the training data\n",
        "model.fit(X_train, y_train)\n",
        "\n",
        "# For predictions on the test data\n",
        "y_pred = model.predict(X_test)\n",
        "\n",
        "# Calculating the MSE and R^2 values\n",
        "mse = np.mean((y_pred - y_test) ** 2)\n",
        "r2 = model.score(X_test, y_test)\n",
        "\n",
        "print('MSE:', mse)\n",
        "print('R^2:', r2)\n"
      ],
      "metadata": {
        "id": "YmnauvrrW9ne",
        "outputId": "292e618a-b16d-4b11-9959-43aed48957f2",
        "colab": {
          "base_uri": "https://localhost:8080/"
        }
      },
      "execution_count": 64,
      "outputs": [
        {
          "output_type": "stream",
          "name": "stdout",
          "text": [
            "MSE: 2165369.8150288626\n",
            "R^2: 0.23942038546465017\n"
          ]
        }
      ]
    },
    {
      "cell_type": "code",
      "source": [
        "from sklearn.metrics import mean_squared_error, r2_score\n",
        "\n",
        "independent_variables = ['buynow_price', 'CPU cores']\n",
        "# Create a list to store the MSE and R2 values\n",
        "mse_values = []\n",
        "r2_values = []\n",
        "\n",
        "# Iterate over each independent variable\n",
        "for variable in independent_variables:\n",
        "\n",
        "  # Create a linear regression model\n",
        "  model = LinearRegression()\n",
        "\n",
        "  # Fit the model to the data\n",
        "  model.fit(dataForTrain[[variable]], dataForTrain['buynow_price'])\n",
        "\n",
        "  # Make predictions\n",
        "  predictions = model.predict(dataForTrain[[variable]])\n",
        "\n",
        "  # Calculate the MSE and R2 values\n",
        "  mse = mean_squared_error(dataForTrain['buynow_price'], predictions)\n",
        "  r2 = r2_score(dataForTrain['buynow_price'], predictions)\n",
        "\n",
        "  # Add the MSE and R2 values to the lists\n",
        "  mse_values.append(mse)\n",
        "  r2_values.append(r2)\n",
        "\n",
        "# Create a table to store the results\n",
        "results_table = pd.DataFrame({\n",
        "  'Independent Variable': independent_variables,\n",
        "  'MSE': mse_values,\n",
        "  'R2': r2_values\n",
        "})\n",
        "\n",
        "# Print the table\n",
        "print(results_table)"
      ],
      "metadata": {
        "id": "1YAlYf5yXqNU",
        "outputId": "d1b1d4c3-0e75-4ecc-9448-0f72e8442183",
        "colab": {
          "base_uri": "https://localhost:8080/"
        }
      },
      "execution_count": 68,
      "outputs": [
        {
          "output_type": "stream",
          "name": "stdout",
          "text": [
            "  Independent Variable           MSE        R2\n",
            "0         buynow_price  1.793608e-25  1.000000\n",
            "1            CPU cores  2.049058e+06  0.267313\n"
          ]
        }
      ]
    },
    {
      "cell_type": "code",
      "source": [
        "# Split the data into training and testing sets\n",
        "X_train, X_test, y_train, y_test = train_test_split(dataForTrain[['CPU cores']], dataForTrain['buynow_price'], test_size=0.25)\n",
        "\n",
        "# Create the linear regression model\n",
        "linear_model = LinearRegression()\n",
        "\n",
        "# Fit the model to the training data\n",
        "linear_model.fit(X_train, y_train)\n",
        "\n",
        "# Make predictions on the test data\n",
        "y_pred = linear_model.predict(X_test)\n",
        "\n",
        "# Evaluate the model\n",
        "r2_score_linear = r2_score(y_test, y_pred)\n",
        "print('R2 score for linear model:', r2_score_linear)\n",
        "\n",
        "# Create the polynomial regression model\n",
        "polynomial_features = PolynomialFeatures(degree=2)\n",
        "X_train_poly = polynomial_features.fit_transform(X_train)\n",
        "X_test_poly = polynomial_features.transform(X_test)\n",
        "\n",
        "polynomial_model = LinearRegression()\n",
        "\n",
        "# Fit the model to the training data\n",
        "polynomial_model.fit(X_train_poly, y_train)\n",
        "\n",
        "# Make predictions on the test data\n",
        "y_pred_poly = polynomial_model.predict(X_test_poly)\n",
        "\n",
        "# Evaluate the model\n",
        "r2_score_poly = r2_score(y_test, y_pred_poly)\n",
        "print('R2 score for polynomial model:', r2_score_poly)\n",
        "\n",
        "# Compare the models\n",
        "if r2_score_poly > r2_score_linear:\n",
        "  print('The polynomial model is better.')\n",
        "else:\n",
        "  print('The linear model is better.')"
      ],
      "metadata": {
        "id": "To5O0wtyY6qa",
        "outputId": "895594a1-773e-4180-cf09-3474dd68527e",
        "colab": {
          "base_uri": "https://localhost:8080/"
        }
      },
      "execution_count": 70,
      "outputs": [
        {
          "output_type": "stream",
          "name": "stdout",
          "text": [
            "R2 score for linear model: 0.2525373719134548\n",
            "R2 score for polynomial model: 0.2542034944703836\n",
            "The polynomial model is better.\n"
          ]
        }
      ]
    },
    {
      "cell_type": "code",
      "source": [
        "plt.plot(y_test - y_pred, label='Residuals')\n",
        "plt.xlabel('True Values')\n",
        "plt.ylabel('Residuals')\n",
        "plt.legend()\n",
        "plt.show()"
      ],
      "metadata": {
        "id": "z9E7eNIAZVZA",
        "outputId": "3e13b586-86bc-4863-9a5b-061b9cc28cd8",
        "colab": {
          "base_uri": "https://localhost:8080/",
          "height": 449
        }
      },
      "execution_count": 71,
      "outputs": [
        {
          "output_type": "display_data",
          "data": {
            "text/plain": [
              "<Figure size 640x480 with 1 Axes>"
            ],
            "image/png": "[encoded data removed]"
          },
          "metadata": {}
        }
      ]
    },
    {
      "cell_type": "code",
      "source": [
        "print(\"R2 score:\", r2_score(y_test, y_pred))\n",
        "print(\"MSE:\", mean_squared_error(y_test, y_pred))"
      ],
      "metadata": {
        "id": "5UVqtLIRZfyI",
        "outputId": "647064e6-5c0e-4f79-81db-cea8183ee303",
        "colab": {
          "base_uri": "https://localhost:8080/"
        }
      },
      "execution_count": 72,
      "outputs": [
        {
          "output_type": "stream",
          "name": "stdout",
          "text": [
            "R2 score: 0.2525373719134548\n",
            "MSE: 2050215.813179174\n"
          ]
        }
      ]
    },
    {
      "cell_type": "code",
      "source": [],
      "metadata": {
        "id": "uBkkVDrzZlD2"
      },
      "execution_count": null,
      "outputs": []
    }
  ]
}